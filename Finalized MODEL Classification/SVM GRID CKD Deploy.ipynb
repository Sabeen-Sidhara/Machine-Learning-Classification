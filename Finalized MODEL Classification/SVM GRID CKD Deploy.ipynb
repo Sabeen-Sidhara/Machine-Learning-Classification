{
 "cells": [
  {
   "cell_type": "code",
   "execution_count": 1,
   "id": "91c847a0-e92c-4ea0-9766-fbb68ac9834a",
   "metadata": {},
   "outputs": [],
   "source": [
    "import pandas as pd"
   ]
  },
  {
   "cell_type": "code",
   "execution_count": 2,
   "id": "aa879ee7-3f80-4cfe-8235-fe0452d8231d",
   "metadata": {},
   "outputs": [],
   "source": [
    "dataset=pd.read_csv(\"CKD.csv\")"
   ]
  },
  {
   "cell_type": "code",
   "execution_count": 3,
   "id": "62debc27-5672-4f9e-b498-29cd3fad1739",
   "metadata": {},
   "outputs": [],
   "source": [
    "dataset = pd.get_dummies(dataset,dtype=int, drop_first=True)"
   ]
  },
  {
   "cell_type": "code",
   "execution_count": 4,
   "id": "79a72737-f3d4-4e74-8983-b596d5409008",
   "metadata": {},
   "outputs": [],
   "source": [
    "dataset=dataset.drop(\"age\",axis=1)"
   ]
  },
  {
   "cell_type": "code",
   "execution_count": 5,
   "id": "ac06b0d5-33bb-45d3-93d2-8c81edae73b9",
   "metadata": {},
   "outputs": [
    {
     "data": {
      "text/plain": [
       "classification_yes\n",
       "1    249\n",
       "0    150\n",
       "Name: count, dtype: int64"
      ]
     },
     "execution_count": 5,
     "metadata": {},
     "output_type": "execute_result"
    }
   ],
   "source": [
    "dataset[\"classification_yes\"].value_counts()"
   ]
  },
  {
   "cell_type": "code",
   "execution_count": 6,
   "id": "7aade963-001f-40bb-a434-fb3a516efd5a",
   "metadata": {},
   "outputs": [
    {
     "data": {
      "text/plain": [
       "Index(['bp', 'al', 'su', 'bgr', 'bu', 'sc', 'sod', 'pot', 'hrmo', 'pcv', 'wc',\n",
       "       'rc', 'sg_b', 'sg_c', 'sg_d', 'sg_e', 'rbc_normal', 'pc_normal',\n",
       "       'pcc_present', 'ba_present', 'htn_yes', 'dm_yes', 'cad_yes',\n",
       "       'appet_yes', 'pe_yes', 'ane_yes', 'classification_yes'],\n",
       "      dtype='object')"
      ]
     },
     "execution_count": 6,
     "metadata": {},
     "output_type": "execute_result"
    }
   ],
   "source": [
    "dataset.columns"
   ]
  },
  {
   "cell_type": "code",
   "execution_count": 7,
   "id": "48e6c25d-96f3-4a74-89e7-8202e23c6221",
   "metadata": {},
   "outputs": [],
   "source": [
    "independent=dataset[['bp', 'al', 'su', 'bgr', 'bu', 'sc', 'sod', 'pot', 'hrmo', 'pcv', 'wc',\n",
    "       'rc', 'sg_b', 'sg_c', 'sg_d', 'sg_e', 'rbc_normal', 'pc_normal',\n",
    "       'pcc_present', 'ba_present', 'htn_yes', 'dm_yes', 'cad_yes',\n",
    "       'appet_yes', 'pe_yes', 'ane_yes']]"
   ]
  },
  {
   "cell_type": "code",
   "execution_count": 8,
   "id": "603f9efa-029b-4714-bb0a-e15ecc68e857",
   "metadata": {},
   "outputs": [
    {
     "data": {
      "text/plain": [
       "(399, 26)"
      ]
     },
     "execution_count": 8,
     "metadata": {},
     "output_type": "execute_result"
    }
   ],
   "source": [
    "independent.shape"
   ]
  },
  {
   "cell_type": "code",
   "execution_count": 9,
   "id": "77c4b4b7-dace-49ad-bdde-3fe60e9d6f59",
   "metadata": {},
   "outputs": [],
   "source": [
    "dependent=dataset[[ 'classification_yes',]]"
   ]
  },
  {
   "cell_type": "code",
   "execution_count": 10,
   "id": "f3d07aa3-56ab-4007-bd95-77a0e07831d8",
   "metadata": {},
   "outputs": [],
   "source": [
    "from sklearn.model_selection import train_test_split    \n",
    "x_train,x_test,y_train,y_test=train_test_split(independent,dependent,test_size=0.30,random_state=0)"
   ]
  },
  {
   "cell_type": "code",
   "execution_count": 11,
   "id": "84396f10-cac8-4d1a-b99e-7d5d96358119",
   "metadata": {},
   "outputs": [],
   "source": [
    "from sklearn.preprocessing import StandardScaler\n",
    "sc=StandardScaler()\n",
    "x_train=sc.fit_transform(x_train)\n",
    "x_test=sc.transform(x_test)"
   ]
  },
  {
   "cell_type": "code",
   "execution_count": 12,
   "id": "2473cca0-db6e-43db-b733-4fda1bdb7ff3",
   "metadata": {},
   "outputs": [],
   "source": [
    "import pickle  "
   ]
  },
  {
   "cell_type": "code",
   "execution_count": 13,
   "id": "ea327912-b2d2-486e-971d-53c97b3c271f",
   "metadata": {},
   "outputs": [
    {
     "name": "stderr",
     "output_type": "stream",
     "text": [
      "C:\\sabeen\\anaconda3\\Lib\\site-packages\\sklearn\\base.py:493: UserWarning: X does not have valid feature names, but StandardScaler was fitted with feature names\n",
      "  warnings.warn(\n"
     ]
    },
    {
     "data": {
      "text/plain": [
       "array([[-4.25222748e-02,  1.75677722e+00,  1.63525964e+00,\n",
       "        -1.51980924e+00, -7.12419534e-01, -2.67364045e-02,\n",
       "         9.58685575e-02, -8.29687752e-02,  8.67610585e+00,\n",
       "        -6.01657214e-01, -3.51510307e+00, -1.69029186e+00,\n",
       "         6.00425888e+02,  3.45447902e+02,  3.25442916e+02,\n",
       "         1.08530639e+03,  3.91014785e-01, -1.99553072e+00,\n",
       "        -3.33996684e-01,  4.35069781e+00, -7.35823664e-01,\n",
       "        -7.30045912e-01,  3.33623062e+00, -1.97350876e+00,\n",
       "         1.95201046e+00,  2.28035085e+00]])"
      ]
     },
     "execution_count": 13,
     "metadata": {},
     "output_type": "execute_result"
    }
   ],
   "source": [
    "preinput = sc.transform([[76,3,2,35,23,3.077,138.56,4.40,36.000,34.000,4.50000,3.30000,234,143,123,144,1,0,0,1,0,0,1,0,1,1]])\n",
    "preinput"
   ]
  },
  {
   "cell_type": "code",
   "execution_count": 14,
   "id": "b457113b-78e1-474d-8dd3-15f181f79c88",
   "metadata": {},
   "outputs": [],
   "source": [
    "loaded_model=pickle.load(open(\"finalized_model_SVC.sav\",'rb'))\n",
    "result=loaded_model.predict(preinput)"
   ]
  },
  {
   "cell_type": "code",
   "execution_count": 15,
   "id": "ffbe0c94-7447-4075-bddf-8e15277f0882",
   "metadata": {},
   "outputs": [
    {
     "data": {
      "text/plain": [
       "array([1])"
      ]
     },
     "execution_count": 15,
     "metadata": {},
     "output_type": "execute_result"
    }
   ],
   "source": [
    "result"
   ]
  }
 ],
 "metadata": {
  "kernelspec": {
   "display_name": "Python 3 (ipykernel)",
   "language": "python",
   "name": "python3"
  },
  "language_info": {
   "codemirror_mode": {
    "name": "ipython",
    "version": 3
   },
   "file_extension": ".py",
   "mimetype": "text/x-python",
   "name": "python",
   "nbconvert_exporter": "python",
   "pygments_lexer": "ipython3",
   "version": "3.12.4"
  }
 },
 "nbformat": 4,
 "nbformat_minor": 5
}
